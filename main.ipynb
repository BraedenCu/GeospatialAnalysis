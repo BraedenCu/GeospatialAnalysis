{
 "cells": [
  {
   "cell_type": "code",
   "execution_count": 9,
   "metadata": {},
   "outputs": [],
   "source": [
    "import PyPDF2\n",
    "import os\n",
    "import re\n",
    "from googletrans import Translator\n",
    "import nltk\n",
    "from nltk.sentiment import SentimentIntensityAnalyzer\n"
   ]
  },
  {
   "cell_type": "code",
   "execution_count": 10,
   "metadata": {},
   "outputs": [],
   "source": [
    "# Function to extract text from a single PDF file\n",
    "def extract_text_from_pdf(pdf_path):\n",
    "    with open(pdf_path, 'rb') as file:\n",
    "        reader = PyPDF2.PdfFileReader(file)\n",
    "        text = \"\"\n",
    "        for page in range(reader.numPages):\n",
    "            text += reader.getPage(page).extractText()\n",
    "    return text\n",
    "\n",
    "# Function to translate text from Russian to English\n",
    "def translate_text_to_english(text, source_language='ru'):\n",
    "    translator = Translator()\n",
    "    translation = translator.translate(text, src=source_language, dest='en')\n",
    "    return translation.text\n",
    "\n",
    "# Function to preprocess the text\n",
    "def preprocess_text(text):\n",
    "    text = re.sub(r'\\s+', ' ', text)  # emoving extra spaces\n",
    "    return text"
   ]
  },
  {
   "cell_type": "code",
   "execution_count": 11,
   "metadata": {},
   "outputs": [],
   "source": [
    "# Sentiment analysis function\n",
    "def analyze_sentiment(text):\n",
    "    sia = SentimentIntensityAnalyzer()\n",
    "    sentiment_scores = sia.polarity_scores(text)\n",
    "    compound_score = sentiment_scores['compound']\n",
    "    \n",
    "    if compound_score >= 0.05:\n",
    "        return \"Positive\", compound_score\n",
    "    elif compound_score <= -0.05:\n",
    "        return \"Negative\", compound_score\n",
    "    else:\n",
    "        return \"Neutral\", compound_score\n",
    "\n",
    "\n",
    "# Placeholder for additional analysis function\n",
    "def perform_additional_analysis(texts):\n",
    "    # Implement additional analysis techniques\n",
    "    pass\n",
    "\n",
    "# Function to read and process all PDFs in a directory\n",
    "def read_pdfs_from_directory(directory):\n",
    "    texts = []\n",
    "    for filename in os.listdir(directory):\n",
    "        if filename.endswith('.pdf'):\n",
    "            path = os.path.join(directory, filename)\n",
    "            russian_text = extract_text_from_pdf(path)\n",
    "            english_text = translate_text_to_english(russian_text)\n",
    "            texts.append(english_text)\n",
    "    return texts"
   ]
  },
  {
   "cell_type": "code",
   "execution_count": null,
   "metadata": {},
   "outputs": [],
   "source": [
    "# Main execution for sentiment analysis\n",
    "directory_path = \"/home//dev/dev/research/GeospatialAnalysis/library\"\n",
    "texts = read_pdfs_from_directory(directory_path)\n",
    "processed_texts = [preprocess_text(text) for text in texts]\n",
    "sentiments = [analyze_sentiment(text) for text in processed_texts]\n",
    "\n",
    "# Perform Sentiment Analysis\n",
    "for sentiment in sentiments:\n",
    "    print(f\"Sentiment: {sentiment[0]}, Compound Score: {sentiment[1]}\")"
   ]
  },
  {
   "cell_type": "code",
   "execution_count": null,
   "metadata": {},
   "outputs": [],
   "source": []
  },
  {
   "cell_type": "code",
   "execution_count": null,
   "metadata": {},
   "outputs": [],
   "source": []
  }
 ],
 "metadata": {
  "kernelspec": {
   "display_name": "Python 3",
   "language": "python",
   "name": "python3"
  },
  "language_info": {
   "codemirror_mode": {
    "name": "ipython",
    "version": 3
   },
   "file_extension": ".py",
   "mimetype": "text/x-python",
   "name": "python",
   "nbconvert_exporter": "python",
   "pygments_lexer": "ipython3",
   "version": "3.8.18"
  },
  "orig_nbformat": 4
 },
 "nbformat": 4,
 "nbformat_minor": 2
}
